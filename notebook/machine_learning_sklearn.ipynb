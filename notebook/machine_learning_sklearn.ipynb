{
 "cells": [
  {
   "cell_type": "code",
   "execution_count": 20,
   "metadata": {},
   "outputs": [],
   "source": [
    "import pandas as pd\n",
    "import sys\n",
    "import os\n",
    "\n",
    "import tensorflow as tf\n",
    "from tensorflow.keras import layers\n",
    "from tensorflow.keras import losses\n",
    "from tensorflow.keras.models import Sequential\n",
    "from tensorflow.keras.layers import Embedding, Flatten, Dense\n",
    "\n",
    "from sklearn.model_selection import train_test_split\n",
    "from sklearn.preprocessing import LabelEncoder\n",
    "from sklearn.metrics import classification_report, confusion_matrix\n",
    "from sklearn.metrics import accuracy_score, f1_score, precision_score, recall_score\n",
    "\n",
    "from sklearn.ensemble import GradientBoostingClassifier\n",
    "from sklearn.ensemble import RandomForestClassifier\n",
    "from sklearn.linear_model import LogisticRegression \n",
    "\n",
    "# Admin Libraries\n",
    "sys.path.append(os.path.abspath(\"..\"))\n",
    "from utils import helper_functions as hf"
   ]
  },
  {
   "cell_type": "code",
   "execution_count": 21,
   "metadata": {},
   "outputs": [
    {
     "name": "stdout",
     "output_type": "stream",
     "text": [
      "2.16.2\n"
     ]
    }
   ],
   "source": [
    "print(tf.__version__)"
   ]
  },
  {
   "cell_type": "code",
   "execution_count": 22,
   "metadata": {},
   "outputs": [
    {
     "data": {
      "text/html": [
       "<div>\n",
       "<style scoped>\n",
       "    .dataframe tbody tr th:only-of-type {\n",
       "        vertical-align: middle;\n",
       "    }\n",
       "\n",
       "    .dataframe tbody tr th {\n",
       "        vertical-align: top;\n",
       "    }\n",
       "\n",
       "    .dataframe thead th {\n",
       "        text-align: right;\n",
       "    }\n",
       "</style>\n",
       "<table border=\"1\" class=\"dataframe\">\n",
       "  <thead>\n",
       "    <tr style=\"text-align: right;\">\n",
       "      <th></th>\n",
       "      <th>product_id</th>\n",
       "      <th>category_id</th>\n",
       "      <th>category_code</th>\n",
       "      <th>brand</th>\n",
       "      <th>last_view_before_cart</th>\n",
       "      <th>already_in_cart</th>\n",
       "      <th>time_of_day</th>\n",
       "      <th>day_of_week</th>\n",
       "      <th>month</th>\n",
       "      <th>price_range</th>\n",
       "      <th>last_view_before_purchase</th>\n",
       "    </tr>\n",
       "  </thead>\n",
       "  <tbody>\n",
       "    <tr>\n",
       "      <th>0</th>\n",
       "      <td>4101974</td>\n",
       "      <td>2144415939364389423</td>\n",
       "      <td>electronics.clocks</td>\n",
       "      <td>honor</td>\n",
       "      <td>0</td>\n",
       "      <td>0</td>\n",
       "      <td>11:00:00</td>\n",
       "      <td>Thursday</td>\n",
       "      <td>2020-10</td>\n",
       "      <td>50-100</td>\n",
       "      <td>0</td>\n",
       "    </tr>\n",
       "    <tr>\n",
       "      <th>1</th>\n",
       "      <td>3506650</td>\n",
       "      <td>2144415935673401802</td>\n",
       "      <td>Unknown</td>\n",
       "      <td>kester</td>\n",
       "      <td>0</td>\n",
       "      <td>0</td>\n",
       "      <td>06:00:00</td>\n",
       "      <td>Tuesday</td>\n",
       "      <td>2020-10</td>\n",
       "      <td>10-50</td>\n",
       "      <td>0</td>\n",
       "    </tr>\n",
       "    <tr>\n",
       "      <th>2</th>\n",
       "      <td>124883</td>\n",
       "      <td>2144415924424278172</td>\n",
       "      <td>electronics.audio.acoustic</td>\n",
       "      <td>logitech</td>\n",
       "      <td>0</td>\n",
       "      <td>0</td>\n",
       "      <td>08:00:00</td>\n",
       "      <td>Monday</td>\n",
       "      <td>2020-11</td>\n",
       "      <td>10-50</td>\n",
       "      <td>0</td>\n",
       "    </tr>\n",
       "    <tr>\n",
       "      <th>3</th>\n",
       "      <td>125325</td>\n",
       "      <td>2144415924424278172</td>\n",
       "      <td>electronics.audio.acoustic</td>\n",
       "      <td>logitech</td>\n",
       "      <td>0</td>\n",
       "      <td>0</td>\n",
       "      <td>09:00:00</td>\n",
       "      <td>Monday</td>\n",
       "      <td>2020-11</td>\n",
       "      <td>10-50</td>\n",
       "      <td>0</td>\n",
       "    </tr>\n",
       "    <tr>\n",
       "      <th>4</th>\n",
       "      <td>254763</td>\n",
       "      <td>2144415924424278172</td>\n",
       "      <td>electronics.audio.acoustic</td>\n",
       "      <td>creative</td>\n",
       "      <td>0</td>\n",
       "      <td>0</td>\n",
       "      <td>10:00:00</td>\n",
       "      <td>Wednesday</td>\n",
       "      <td>2020-11</td>\n",
       "      <td>50-100</td>\n",
       "      <td>0</td>\n",
       "    </tr>\n",
       "  </tbody>\n",
       "</table>\n",
       "</div>"
      ],
      "text/plain": [
       "   product_id          category_id               category_code     brand  \\\n",
       "0     4101974  2144415939364389423          electronics.clocks     honor   \n",
       "1     3506650  2144415935673401802                     Unknown    kester   \n",
       "2      124883  2144415924424278172  electronics.audio.acoustic  logitech   \n",
       "3      125325  2144415924424278172  electronics.audio.acoustic  logitech   \n",
       "4      254763  2144415924424278172  electronics.audio.acoustic  creative   \n",
       "\n",
       "   last_view_before_cart  already_in_cart time_of_day day_of_week    month  \\\n",
       "0                      0                0    11:00:00    Thursday  2020-10   \n",
       "1                      0                0    06:00:00     Tuesday  2020-10   \n",
       "2                      0                0    08:00:00      Monday  2020-11   \n",
       "3                      0                0    09:00:00      Monday  2020-11   \n",
       "4                      0                0    10:00:00   Wednesday  2020-11   \n",
       "\n",
       "  price_range  last_view_before_purchase  \n",
       "0      50-100                          0  \n",
       "1       10-50                          0  \n",
       "2       10-50                          0  \n",
       "3       10-50                          0  \n",
       "4      50-100                          0  "
      ]
     },
     "execution_count": 22,
     "metadata": {},
     "output_type": "execute_result"
    }
   ],
   "source": [
    "filepath = '../data/events_ml.csv' \n",
    "df = pd.read_csv(filepath) \n",
    "df.head()"
   ]
  },
  {
   "cell_type": "code",
   "execution_count": 23,
   "metadata": {},
   "outputs": [
    {
     "data": {
      "text/plain": [
       "product_id                   object\n",
       "category_id                  object\n",
       "category_code                object\n",
       "brand                        object\n",
       "last_view_before_cart        object\n",
       "already_in_cart              object\n",
       "time_of_day                  object\n",
       "day_of_week                  object\n",
       "month                        object\n",
       "price_range                  object\n",
       "last_view_before_purchase    object\n",
       "dtype: object"
      ]
     },
     "execution_count": 23,
     "metadata": {},
     "output_type": "execute_result"
    }
   ],
   "source": [
    "#convert all integer columns to object\n",
    "int_columns = df.select_dtypes(include='int64').columns\n",
    "df[int_columns] = df[int_columns].astype('object')\n",
    "df.dtypes"
   ]
  },
  {
   "cell_type": "markdown",
   "metadata": {},
   "source": [
    "### TO DO\n",
    "- analyse category_code as it could be split\n",
    "- transform lesser often product_ids into \"other\"\n",
    "- downsampling with TomekLinks\n",
    "- take out \"last_view_before_cart\""
   ]
  },
  {
   "cell_type": "code",
   "execution_count": 25,
   "metadata": {},
   "outputs": [
    {
     "data": {
      "text/html": [
       "<div>\n",
       "<style scoped>\n",
       "    .dataframe tbody tr th:only-of-type {\n",
       "        vertical-align: middle;\n",
       "    }\n",
       "\n",
       "    .dataframe tbody tr th {\n",
       "        vertical-align: top;\n",
       "    }\n",
       "\n",
       "    .dataframe thead th {\n",
       "        text-align: right;\n",
       "    }\n",
       "</style>\n",
       "<table border=\"1\" class=\"dataframe\">\n",
       "  <thead>\n",
       "    <tr style=\"text-align: right;\">\n",
       "      <th></th>\n",
       "      <th>product_id</th>\n",
       "      <th>category_id</th>\n",
       "      <th>category_code</th>\n",
       "      <th>brand</th>\n",
       "      <th>last_view_before_cart</th>\n",
       "      <th>already_in_cart</th>\n",
       "      <th>time_of_day</th>\n",
       "      <th>day_of_week</th>\n",
       "      <th>month</th>\n",
       "      <th>price_range</th>\n",
       "      <th>last_view_before_purchase</th>\n",
       "    </tr>\n",
       "  </thead>\n",
       "  <tbody>\n",
       "    <tr>\n",
       "      <th>0</th>\n",
       "      <td>4101974</td>\n",
       "      <td>2144415939364389423</td>\n",
       "      <td>electronics.clocks</td>\n",
       "      <td>honor</td>\n",
       "      <td>0</td>\n",
       "      <td>0</td>\n",
       "      <td>11:00:00</td>\n",
       "      <td>Thursday</td>\n",
       "      <td>2020-10</td>\n",
       "      <td>50-100</td>\n",
       "      <td>0</td>\n",
       "    </tr>\n",
       "    <tr>\n",
       "      <th>1</th>\n",
       "      <td>3506650</td>\n",
       "      <td>2144415935673401802</td>\n",
       "      <td>Unknown</td>\n",
       "      <td>kester</td>\n",
       "      <td>0</td>\n",
       "      <td>0</td>\n",
       "      <td>06:00:00</td>\n",
       "      <td>Tuesday</td>\n",
       "      <td>2020-10</td>\n",
       "      <td>10-50</td>\n",
       "      <td>0</td>\n",
       "    </tr>\n",
       "    <tr>\n",
       "      <th>2</th>\n",
       "      <td>124883</td>\n",
       "      <td>2144415924424278172</td>\n",
       "      <td>electronics.audio.acoustic</td>\n",
       "      <td>logitech</td>\n",
       "      <td>0</td>\n",
       "      <td>0</td>\n",
       "      <td>08:00:00</td>\n",
       "      <td>Monday</td>\n",
       "      <td>2020-11</td>\n",
       "      <td>10-50</td>\n",
       "      <td>0</td>\n",
       "    </tr>\n",
       "    <tr>\n",
       "      <th>3</th>\n",
       "      <td>125325</td>\n",
       "      <td>2144415924424278172</td>\n",
       "      <td>electronics.audio.acoustic</td>\n",
       "      <td>logitech</td>\n",
       "      <td>0</td>\n",
       "      <td>0</td>\n",
       "      <td>09:00:00</td>\n",
       "      <td>Monday</td>\n",
       "      <td>2020-11</td>\n",
       "      <td>10-50</td>\n",
       "      <td>0</td>\n",
       "    </tr>\n",
       "    <tr>\n",
       "      <th>4</th>\n",
       "      <td>254763</td>\n",
       "      <td>2144415924424278172</td>\n",
       "      <td>electronics.audio.acoustic</td>\n",
       "      <td>creative</td>\n",
       "      <td>0</td>\n",
       "      <td>0</td>\n",
       "      <td>10:00:00</td>\n",
       "      <td>Wednesday</td>\n",
       "      <td>2020-11</td>\n",
       "      <td>50-100</td>\n",
       "      <td>0</td>\n",
       "    </tr>\n",
       "  </tbody>\n",
       "</table>\n",
       "</div>"
      ],
      "text/plain": [
       "  product_id          category_id               category_code     brand  \\\n",
       "0    4101974  2144415939364389423          electronics.clocks     honor   \n",
       "1    3506650  2144415935673401802                     Unknown    kester   \n",
       "2     124883  2144415924424278172  electronics.audio.acoustic  logitech   \n",
       "3     125325  2144415924424278172  electronics.audio.acoustic  logitech   \n",
       "4     254763  2144415924424278172  electronics.audio.acoustic  creative   \n",
       "\n",
       "  last_view_before_cart already_in_cart time_of_day day_of_week    month  \\\n",
       "0                     0               0    11:00:00    Thursday  2020-10   \n",
       "1                     0               0    06:00:00     Tuesday  2020-10   \n",
       "2                     0               0    08:00:00      Monday  2020-11   \n",
       "3                     0               0    09:00:00      Monday  2020-11   \n",
       "4                     0               0    10:00:00   Wednesday  2020-11   \n",
       "\n",
       "  price_range last_view_before_purchase  \n",
       "0      50-100                         0  \n",
       "1       10-50                         0  \n",
       "2       10-50                         0  \n",
       "3       10-50                         0  \n",
       "4      50-100                         0  "
      ]
     },
     "execution_count": 25,
     "metadata": {},
     "output_type": "execute_result"
    }
   ],
   "source": [
    "df.head()"
   ]
  },
  {
   "cell_type": "markdown",
   "metadata": {},
   "source": [
    "# Create X and y, train and test set"
   ]
  },
  {
   "cell_type": "code",
   "execution_count": 26,
   "metadata": {},
   "outputs": [],
   "source": [
    "y = df.pop('last_view_before_purchase').astype('int')\n",
    "X = df"
   ]
  },
  {
   "cell_type": "code",
   "execution_count": 27,
   "metadata": {},
   "outputs": [
    {
     "data": {
      "text/html": [
       "<div>\n",
       "<style scoped>\n",
       "    .dataframe tbody tr th:only-of-type {\n",
       "        vertical-align: middle;\n",
       "    }\n",
       "\n",
       "    .dataframe tbody tr th {\n",
       "        vertical-align: top;\n",
       "    }\n",
       "\n",
       "    .dataframe thead th {\n",
       "        text-align: right;\n",
       "    }\n",
       "</style>\n",
       "<table border=\"1\" class=\"dataframe\">\n",
       "  <thead>\n",
       "    <tr style=\"text-align: right;\">\n",
       "      <th></th>\n",
       "      <th>product_id</th>\n",
       "      <th>category_id</th>\n",
       "      <th>category_code</th>\n",
       "      <th>brand</th>\n",
       "      <th>last_view_before_cart</th>\n",
       "      <th>already_in_cart</th>\n",
       "      <th>time_of_day</th>\n",
       "      <th>day_of_week</th>\n",
       "      <th>month</th>\n",
       "      <th>price_range</th>\n",
       "    </tr>\n",
       "  </thead>\n",
       "  <tbody>\n",
       "    <tr>\n",
       "      <th>0</th>\n",
       "      <td>4101974</td>\n",
       "      <td>2144415939364389423</td>\n",
       "      <td>electronics.clocks</td>\n",
       "      <td>honor</td>\n",
       "      <td>0</td>\n",
       "      <td>0</td>\n",
       "      <td>11:00:00</td>\n",
       "      <td>Thursday</td>\n",
       "      <td>2020-10</td>\n",
       "      <td>50-100</td>\n",
       "    </tr>\n",
       "    <tr>\n",
       "      <th>1</th>\n",
       "      <td>3506650</td>\n",
       "      <td>2144415935673401802</td>\n",
       "      <td>Unknown</td>\n",
       "      <td>kester</td>\n",
       "      <td>0</td>\n",
       "      <td>0</td>\n",
       "      <td>06:00:00</td>\n",
       "      <td>Tuesday</td>\n",
       "      <td>2020-10</td>\n",
       "      <td>10-50</td>\n",
       "    </tr>\n",
       "    <tr>\n",
       "      <th>2</th>\n",
       "      <td>124883</td>\n",
       "      <td>2144415924424278172</td>\n",
       "      <td>electronics.audio.acoustic</td>\n",
       "      <td>logitech</td>\n",
       "      <td>0</td>\n",
       "      <td>0</td>\n",
       "      <td>08:00:00</td>\n",
       "      <td>Monday</td>\n",
       "      <td>2020-11</td>\n",
       "      <td>10-50</td>\n",
       "    </tr>\n",
       "    <tr>\n",
       "      <th>3</th>\n",
       "      <td>125325</td>\n",
       "      <td>2144415924424278172</td>\n",
       "      <td>electronics.audio.acoustic</td>\n",
       "      <td>logitech</td>\n",
       "      <td>0</td>\n",
       "      <td>0</td>\n",
       "      <td>09:00:00</td>\n",
       "      <td>Monday</td>\n",
       "      <td>2020-11</td>\n",
       "      <td>10-50</td>\n",
       "    </tr>\n",
       "    <tr>\n",
       "      <th>4</th>\n",
       "      <td>254763</td>\n",
       "      <td>2144415924424278172</td>\n",
       "      <td>electronics.audio.acoustic</td>\n",
       "      <td>creative</td>\n",
       "      <td>0</td>\n",
       "      <td>0</td>\n",
       "      <td>10:00:00</td>\n",
       "      <td>Wednesday</td>\n",
       "      <td>2020-11</td>\n",
       "      <td>50-100</td>\n",
       "    </tr>\n",
       "    <tr>\n",
       "      <th>...</th>\n",
       "      <td>...</td>\n",
       "      <td>...</td>\n",
       "      <td>...</td>\n",
       "      <td>...</td>\n",
       "      <td>...</td>\n",
       "      <td>...</td>\n",
       "      <td>...</td>\n",
       "      <td>...</td>\n",
       "      <td>...</td>\n",
       "      <td>...</td>\n",
       "    </tr>\n",
       "    <tr>\n",
       "      <th>884469</th>\n",
       "      <td>3829355</td>\n",
       "      <td>2144415922528452715</td>\n",
       "      <td>electronics.telephone</td>\n",
       "      <td>Unknown</td>\n",
       "      <td>0</td>\n",
       "      <td>0</td>\n",
       "      <td>23:00:00</td>\n",
       "      <td>Sunday</td>\n",
       "      <td>2021-02</td>\n",
       "      <td>10-50</td>\n",
       "    </tr>\n",
       "    <tr>\n",
       "      <th>884470</th>\n",
       "      <td>953226</td>\n",
       "      <td>2144415927553229037</td>\n",
       "      <td>Unknown</td>\n",
       "      <td>Unknown</td>\n",
       "      <td>0</td>\n",
       "      <td>0</td>\n",
       "      <td>23:00:00</td>\n",
       "      <td>Sunday</td>\n",
       "      <td>2021-02</td>\n",
       "      <td>200-500</td>\n",
       "    </tr>\n",
       "    <tr>\n",
       "      <th>884471</th>\n",
       "      <td>1715907</td>\n",
       "      <td>2144415927049912542</td>\n",
       "      <td>electronics.video.tv</td>\n",
       "      <td>starwind</td>\n",
       "      <td>0</td>\n",
       "      <td>0</td>\n",
       "      <td>23:00:00</td>\n",
       "      <td>Sunday</td>\n",
       "      <td>2021-02</td>\n",
       "      <td>50-100</td>\n",
       "    </tr>\n",
       "    <tr>\n",
       "      <th>884472</th>\n",
       "      <td>4170534</td>\n",
       "      <td>2144415939364389423</td>\n",
       "      <td>electronics.clocks</td>\n",
       "      <td>amazfit</td>\n",
       "      <td>0</td>\n",
       "      <td>0</td>\n",
       "      <td>23:00:00</td>\n",
       "      <td>Sunday</td>\n",
       "      <td>2021-02</td>\n",
       "      <td>50-100</td>\n",
       "    </tr>\n",
       "    <tr>\n",
       "      <th>884473</th>\n",
       "      <td>888273</td>\n",
       "      <td>2144415921932861531</td>\n",
       "      <td>electronics.telephone</td>\n",
       "      <td>Unknown</td>\n",
       "      <td>0</td>\n",
       "      <td>0</td>\n",
       "      <td>23:00:00</td>\n",
       "      <td>Sunday</td>\n",
       "      <td>2021-02</td>\n",
       "      <td>10-50</td>\n",
       "    </tr>\n",
       "  </tbody>\n",
       "</table>\n",
       "<p>884474 rows × 10 columns</p>\n",
       "</div>"
      ],
      "text/plain": [
       "       product_id          category_id               category_code     brand  \\\n",
       "0         4101974  2144415939364389423          electronics.clocks     honor   \n",
       "1         3506650  2144415935673401802                     Unknown    kester   \n",
       "2          124883  2144415924424278172  electronics.audio.acoustic  logitech   \n",
       "3          125325  2144415924424278172  electronics.audio.acoustic  logitech   \n",
       "4          254763  2144415924424278172  electronics.audio.acoustic  creative   \n",
       "...           ...                  ...                         ...       ...   \n",
       "884469    3829355  2144415922528452715       electronics.telephone   Unknown   \n",
       "884470     953226  2144415927553229037                     Unknown   Unknown   \n",
       "884471    1715907  2144415927049912542        electronics.video.tv  starwind   \n",
       "884472    4170534  2144415939364389423          electronics.clocks   amazfit   \n",
       "884473     888273  2144415921932861531       electronics.telephone   Unknown   \n",
       "\n",
       "       last_view_before_cart already_in_cart time_of_day day_of_week    month  \\\n",
       "0                          0               0    11:00:00    Thursday  2020-10   \n",
       "1                          0               0    06:00:00     Tuesday  2020-10   \n",
       "2                          0               0    08:00:00      Monday  2020-11   \n",
       "3                          0               0    09:00:00      Monday  2020-11   \n",
       "4                          0               0    10:00:00   Wednesday  2020-11   \n",
       "...                      ...             ...         ...         ...      ...   \n",
       "884469                     0               0    23:00:00      Sunday  2021-02   \n",
       "884470                     0               0    23:00:00      Sunday  2021-02   \n",
       "884471                     0               0    23:00:00      Sunday  2021-02   \n",
       "884472                     0               0    23:00:00      Sunday  2021-02   \n",
       "884473                     0               0    23:00:00      Sunday  2021-02   \n",
       "\n",
       "       price_range  \n",
       "0           50-100  \n",
       "1            10-50  \n",
       "2            10-50  \n",
       "3            10-50  \n",
       "4           50-100  \n",
       "...            ...  \n",
       "884469       10-50  \n",
       "884470     200-500  \n",
       "884471      50-100  \n",
       "884472      50-100  \n",
       "884473       10-50  \n",
       "\n",
       "[884474 rows x 10 columns]"
      ]
     },
     "execution_count": 27,
     "metadata": {},
     "output_type": "execute_result"
    }
   ],
   "source": [
    "X"
   ]
  },
  {
   "cell_type": "code",
   "execution_count": 28,
   "metadata": {},
   "outputs": [],
   "source": [
    "# Convert categorical string values to integers\n",
    "for column in X.columns:\n",
    "    le = LabelEncoder()\n",
    "    X[column] = le.fit_transform(X[column])\n"
   ]
  },
  {
   "cell_type": "code",
   "execution_count": 29,
   "metadata": {},
   "outputs": [],
   "source": [
    "X = X.values"
   ]
  },
  {
   "cell_type": "code",
   "execution_count": 30,
   "metadata": {},
   "outputs": [
    {
     "data": {
      "text/plain": [
       "array([[51449,   379,    86, ...,     4,     1,     5],\n",
       "       [42316,   312,     0, ...,     5,     1,     1],\n",
       "       [ 1563,    78,    78, ...,     1,     2,     1],\n",
       "       ...,\n",
       "       [38146,   138,    91, ...,     3,     5,     5],\n",
       "       [52972,   379,    86, ...,     3,     5,     5],\n",
       "       [23265,    19,    89, ...,     3,     5,     1]])"
      ]
     },
     "execution_count": 30,
     "metadata": {},
     "output_type": "execute_result"
    }
   ],
   "source": [
    "X"
   ]
  },
  {
   "cell_type": "code",
   "execution_count": 10,
   "metadata": {},
   "outputs": [],
   "source": [
    "X_train, X_test, y_train, y_test = train_test_split(X, y, test_size=0.3, random_state=42)"
   ]
  },
  {
   "cell_type": "markdown",
   "metadata": {},
   "source": [
    "# SKlearn models\n",
    "### TO DO\n",
    "- grid search, \n",
    "- cross validation, \n",
    "- confusion matrix, AUC (ROC), all KPI --> think which one is best\n",
    "- check feature_importance/co-efficent etc.\n",
    "- take out one column 'last_view_before_cart' and re-run. How much was model dependant on it.."
   ]
  },
  {
   "cell_type": "code",
   "execution_count": 12,
   "metadata": {},
   "outputs": [],
   "source": [
    "def calculate_models_score(X_train, y_train, X_test, y_test, model_object, modelName, doPrint=True):\n",
    "    model_object.fit(X_train, y_train)\n",
    "    y_pred = model_object.predict(X_test)\n",
    "    score = model_object.score(X_test, y_test)\n",
    "    if doPrint:\n",
    "        print(f\"{modelName} Score: {score:.4f}\")\n",
    "    return score  "
   ]
  },
  {
   "cell_type": "code",
   "execution_count": 17,
   "metadata": {},
   "outputs": [
    {
     "name": "stderr",
     "output_type": "stream",
     "text": [
      "/opt/anaconda3/envs/computer_vision/lib/python3.10/site-packages/sklearn/linear_model/_logistic.py:465: ConvergenceWarning: lbfgs failed to converge (status=1):\n",
      "STOP: TOTAL NO. OF ITERATIONS REACHED LIMIT.\n",
      "\n",
      "Increase the number of iterations (max_iter) or scale the data as shown in:\n",
      "    https://scikit-learn.org/stable/modules/preprocessing.html\n",
      "Please also refer to the documentation for alternative solver options:\n",
      "    https://scikit-learn.org/stable/modules/linear_model.html#logistic-regression\n",
      "  n_iter_i = _check_optimize_result(\n"
     ]
    },
    {
     "name": "stdout",
     "output_type": "stream",
     "text": [
      "Logistic Regression Score: 0.9659\n",
      "Gradient Boosting Classifier Score: 0.9691\n",
      "Random Forest Classifier Score: 0.9672\n"
     ]
    }
   ],
   "source": [
    "# Logistic regression model\n",
    "log_reg_score = calculate_models_score(X_train, y_train, X_test, y_test, \n",
    "                                       LogisticRegression(max_iter=1000), \"Logistic Regression\")\n",
    "# Gradient Boosting Classifier\n",
    "gbc_score = calculate_models_score(X_train, y_train, X_test, y_test, \n",
    "                                       GradientBoostingClassifier(), \"Gradient Boosting Classifier\")\n",
    "# Random Forest Classifier               \n",
    "rfc_score = calculate_models_score(X_train, y_train, X_test, y_test, \n",
    "                                       RandomForestClassifier(), \"Random Forest Classifier\")"
   ]
  },
  {
   "cell_type": "markdown",
   "metadata": {},
   "source": [
    "# Deep learning\n",
    "### TO DO\n",
    "- optimise first with sklearn\n",
    "- see how model performs without the columns 'last_view_before_cart'\n",
    "- save epoch results in .json\n",
    "- save the model\n",
    "- call the saved model and apply on X_test to compare results with y_test"
   ]
  },
  {
   "cell_type": "code",
   "execution_count": null,
   "metadata": {},
   "outputs": [
    {
     "name": "stderr",
     "output_type": "stream",
     "text": [
      "/opt/anaconda3/envs/computer_vision/lib/python3.10/site-packages/keras/src/layers/core/embedding.py:90: UserWarning: Argument `input_length` is deprecated. Just remove it.\n",
      "  warnings.warn(\n"
     ]
    },
    {
     "data": {
      "text/html": [
       "<pre style=\"white-space:pre;overflow-x:auto;line-height:normal;font-family:Menlo,'DejaVu Sans Mono',consolas,'Courier New',monospace\"><span style=\"font-weight: bold\">Model: \"sequential\"</span>\n",
       "</pre>\n"
      ],
      "text/plain": [
       "\u001b[1mModel: \"sequential\"\u001b[0m\n"
      ]
     },
     "metadata": {},
     "output_type": "display_data"
    },
    {
     "data": {
      "text/html": [
       "<pre style=\"white-space:pre;overflow-x:auto;line-height:normal;font-family:Menlo,'DejaVu Sans Mono',consolas,'Courier New',monospace\">┏━━━━━━━━━━━━━━━━━━━━━━━━━━━━━━━━━┳━━━━━━━━━━━━━━━━━━━━━━━━┳━━━━━━━━━━━━━━━┓\n",
       "┃<span style=\"font-weight: bold\"> Layer (type)                    </span>┃<span style=\"font-weight: bold\"> Output Shape           </span>┃<span style=\"font-weight: bold\">       Param # </span>┃\n",
       "┡━━━━━━━━━━━━━━━━━━━━━━━━━━━━━━━━━╇━━━━━━━━━━━━━━━━━━━━━━━━╇━━━━━━━━━━━━━━━┩\n",
       "│ embedding (<span style=\"color: #0087ff; text-decoration-color: #0087ff\">Embedding</span>)           │ ?                      │   <span style=\"color: #00af00; text-decoration-color: #00af00\">0</span> (unbuilt) │\n",
       "├─────────────────────────────────┼────────────────────────┼───────────────┤\n",
       "│ flatten (<span style=\"color: #0087ff; text-decoration-color: #0087ff\">Flatten</span>)               │ ?                      │   <span style=\"color: #00af00; text-decoration-color: #00af00\">0</span> (unbuilt) │\n",
       "├─────────────────────────────────┼────────────────────────┼───────────────┤\n",
       "│ dense (<span style=\"color: #0087ff; text-decoration-color: #0087ff\">Dense</span>)                   │ ?                      │   <span style=\"color: #00af00; text-decoration-color: #00af00\">0</span> (unbuilt) │\n",
       "├─────────────────────────────────┼────────────────────────┼───────────────┤\n",
       "│ dense_1 (<span style=\"color: #0087ff; text-decoration-color: #0087ff\">Dense</span>)                 │ ?                      │   <span style=\"color: #00af00; text-decoration-color: #00af00\">0</span> (unbuilt) │\n",
       "└─────────────────────────────────┴────────────────────────┴───────────────┘\n",
       "</pre>\n"
      ],
      "text/plain": [
       "┏━━━━━━━━━━━━━━━━━━━━━━━━━━━━━━━━━┳━━━━━━━━━━━━━━━━━━━━━━━━┳━━━━━━━━━━━━━━━┓\n",
       "┃\u001b[1m \u001b[0m\u001b[1mLayer (type)                   \u001b[0m\u001b[1m \u001b[0m┃\u001b[1m \u001b[0m\u001b[1mOutput Shape          \u001b[0m\u001b[1m \u001b[0m┃\u001b[1m \u001b[0m\u001b[1m      Param #\u001b[0m\u001b[1m \u001b[0m┃\n",
       "┡━━━━━━━━━━━━━━━━━━━━━━━━━━━━━━━━━╇━━━━━━━━━━━━━━━━━━━━━━━━╇━━━━━━━━━━━━━━━┩\n",
       "│ embedding (\u001b[38;5;33mEmbedding\u001b[0m)           │ ?                      │   \u001b[38;5;34m0\u001b[0m (unbuilt) │\n",
       "├─────────────────────────────────┼────────────────────────┼───────────────┤\n",
       "│ flatten (\u001b[38;5;33mFlatten\u001b[0m)               │ ?                      │   \u001b[38;5;34m0\u001b[0m (unbuilt) │\n",
       "├─────────────────────────────────┼────────────────────────┼───────────────┤\n",
       "│ dense (\u001b[38;5;33mDense\u001b[0m)                   │ ?                      │   \u001b[38;5;34m0\u001b[0m (unbuilt) │\n",
       "├─────────────────────────────────┼────────────────────────┼───────────────┤\n",
       "│ dense_1 (\u001b[38;5;33mDense\u001b[0m)                 │ ?                      │   \u001b[38;5;34m0\u001b[0m (unbuilt) │\n",
       "└─────────────────────────────────┴────────────────────────┴───────────────┘\n"
      ]
     },
     "metadata": {},
     "output_type": "display_data"
    },
    {
     "data": {
      "text/html": [
       "<pre style=\"white-space:pre;overflow-x:auto;line-height:normal;font-family:Menlo,'DejaVu Sans Mono',consolas,'Courier New',monospace\"><span style=\"font-weight: bold\"> Total params: </span><span style=\"color: #00af00; text-decoration-color: #00af00\">0</span> (0.00 B)\n",
       "</pre>\n"
      ],
      "text/plain": [
       "\u001b[1m Total params: \u001b[0m\u001b[38;5;34m0\u001b[0m (0.00 B)\n"
      ]
     },
     "metadata": {},
     "output_type": "display_data"
    },
    {
     "data": {
      "text/html": [
       "<pre style=\"white-space:pre;overflow-x:auto;line-height:normal;font-family:Menlo,'DejaVu Sans Mono',consolas,'Courier New',monospace\"><span style=\"font-weight: bold\"> Trainable params: </span><span style=\"color: #00af00; text-decoration-color: #00af00\">0</span> (0.00 B)\n",
       "</pre>\n"
      ],
      "text/plain": [
       "\u001b[1m Trainable params: \u001b[0m\u001b[38;5;34m0\u001b[0m (0.00 B)\n"
      ]
     },
     "metadata": {},
     "output_type": "display_data"
    },
    {
     "data": {
      "text/html": [
       "<pre style=\"white-space:pre;overflow-x:auto;line-height:normal;font-family:Menlo,'DejaVu Sans Mono',consolas,'Courier New',monospace\"><span style=\"font-weight: bold\"> Non-trainable params: </span><span style=\"color: #00af00; text-decoration-color: #00af00\">0</span> (0.00 B)\n",
       "</pre>\n"
      ],
      "text/plain": [
       "\u001b[1m Non-trainable params: \u001b[0m\u001b[38;5;34m0\u001b[0m (0.00 B)\n"
      ]
     },
     "metadata": {},
     "output_type": "display_data"
    },
    {
     "name": "stdout",
     "output_type": "stream",
     "text": [
      "Epoch 1/5\n",
      "\u001b[1m19348/19348\u001b[0m \u001b[32m━━━━━━━━━━━━━━━━━━━━\u001b[0m\u001b[37m\u001b[0m \u001b[1m90s\u001b[0m 5ms/step - accuracy: 0.9671 - loss: 0.0824\n",
      "Epoch 2/5\n",
      "\u001b[1m19348/19348\u001b[0m \u001b[32m━━━━━━━━━━━━━━━━━━━━\u001b[0m\u001b[37m\u001b[0m \u001b[1m107s\u001b[0m 6ms/step - accuracy: 0.9706 - loss: 0.0678\n",
      "Epoch 3/5\n",
      "\u001b[1m19348/19348\u001b[0m \u001b[32m━━━━━━━━━━━━━━━━━━━━\u001b[0m\u001b[37m\u001b[0m \u001b[1m110s\u001b[0m 6ms/step - accuracy: 0.9724 - loss: 0.0667\n",
      "Epoch 4/5\n",
      "\u001b[1m19348/19348\u001b[0m \u001b[32m━━━━━━━━━━━━━━━━━━━━\u001b[0m\u001b[37m\u001b[0m \u001b[1m105s\u001b[0m 5ms/step - accuracy: 0.9735 - loss: 0.0649\n",
      "Epoch 5/5\n",
      "\u001b[1m19348/19348\u001b[0m \u001b[32m━━━━━━━━━━━━━━━━━━━━\u001b[0m\u001b[37m\u001b[0m \u001b[1m93s\u001b[0m 5ms/step - accuracy: 0.9733 - loss: 0.0647\n"
     ]
    },
    {
     "data": {
      "text/plain": [
       "<keras.src.callbacks.history.History at 0x14dd15270>"
      ]
     },
     "execution_count": 11,
     "metadata": {},
     "output_type": "execute_result"
    }
   ],
   "source": [
    "# Model setup\n",
    "model = Sequential()\n",
    "\n",
    "# Example of applying the Embedding layer; adjust input_dim and output_dim as necessary\n",
    "input_dim = X_train.max() + 1  # Unique values in the largest label-encoded column\n",
    "output_dim = 8  # Example dimensionality for the embeddings\n",
    "\n",
    "model.add(Embedding(input_dim=input_dim, output_dim=output_dim, input_length=X_train.shape[1]))\n",
    "model.add(Flatten())\n",
    "model.add(Dense(10, activation='relu'))  # Example Dense layer\n",
    "model.add(Dense(1, activation='sigmoid'))  # Example output layer for binary classification\n",
    "\n",
    "model.compile(optimizer='adam', loss='binary_crossentropy', metrics=['accuracy'])\n",
    "\n",
    "# Display the model summary\n",
    "model.summary()\n",
    "\n",
    "# Assume you have Y_train\n",
    "# model.fit(X_train, y_train, epochs=5, batch_size=32)"
   ]
  }
 ],
 "metadata": {
  "kernelspec": {
   "display_name": "computer_vision",
   "language": "python",
   "name": "python3"
  },
  "language_info": {
   "codemirror_mode": {
    "name": "ipython",
    "version": 3
   },
   "file_extension": ".py",
   "mimetype": "text/x-python",
   "name": "python",
   "nbconvert_exporter": "python",
   "pygments_lexer": "ipython3",
   "version": "3.10.16"
  }
 },
 "nbformat": 4,
 "nbformat_minor": 2
}
