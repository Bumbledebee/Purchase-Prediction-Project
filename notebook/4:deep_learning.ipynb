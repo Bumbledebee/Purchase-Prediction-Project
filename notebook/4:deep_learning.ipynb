{
 "cells": [
  {
   "cell_type": "code",
   "execution_count": 1,
   "metadata": {},
   "outputs": [
    {
     "name": "stderr",
     "output_type": "stream",
     "text": [
      "2025-04-17 17:38:33.106362: I tensorflow/core/platform/cpu_feature_guard.cc:210] This TensorFlow binary is optimized to use available CPU instructions in performance-critical operations.\n",
      "To enable the following instructions: AVX2 AVX512F AVX512_VNNI FMA, in other operations, rebuild TensorFlow with the appropriate compiler flags.\n"
     ]
    }
   ],
   "source": [
    "import pandas as pd\n",
    "import sys\n",
    "import os\n",
    "import json\n",
    "\n",
    "import matplotlib.pyplot as plt\n",
    "import seaborn as sns\n",
    "\n",
    "import tensorflow as tf\n",
    "from tensorflow.keras import layers\n",
    "from tensorflow.keras import losses\n",
    "from tensorflow.keras.models import Sequential\n",
    "from tensorflow.keras.layers import Embedding, Flatten, Dense\n",
    "from tensorflow.keras.callbacks import EarlyStopping, ModelCheckpoint\n",
    "\n",
    "from sklearn.model_selection import train_test_split\n",
    "from sklearn.preprocessing import LabelEncoder, StandardScaler\n",
    "from sklearn.metrics import classification_report, confusion_matrix\n",
    "from sklearn.metrics import accuracy_score, f1_score, precision_score, recall_score\n",
    "\n",
    "# admin libraries\n",
    "sys.path.append(os.path.abspath(\"..\"))\n",
    "from utils import helper_functions as hf"
   ]
  },
  {
   "cell_type": "code",
   "execution_count": null,
   "metadata": {},
   "outputs": [],
   "source": [
    "print(tf.__version__)"
   ]
  },
  {
   "cell_type": "code",
   "execution_count": null,
   "metadata": {},
   "outputs": [],
   "source": [
    "# get the data\n",
    "filepath = '../data/events_ml.csv' \n",
    "df = pd.read_csv(filepath) \n",
    "# convert all integer columns to object\n",
    "int_columns = df.select_dtypes(include='int64').columns\n",
    "df[int_columns] = df[int_columns].astype('object')\n",
    "\n",
    "# define x and y\n",
    "y = df.pop('last_view_before_purchase').astype('int')\n",
    "X = df\n",
    "# convert categorical string values to integers\n",
    "for column in X.columns:\n",
    "    le = LabelEncoder()\n",
    "    X[column] = le.fit_transform(X[column])\n",
    "X = X.values\n",
    "#scaler = StandardScaler()\n",
    "#X_normalised = scaler.fit_transform(X)\n",
    "# set up x and y for test and train split\n",
    "X_train, X_test, y_train, y_test = train_test_split(X_normalised, y, test_size=0.3, random_state=42)"
   ]
  },
  {
   "cell_type": "code",
   "execution_count": null,
   "metadata": {},
   "outputs": [],
   "source": [
    "print(\"class distribution in y_train:\", pd.Series(y_train).value_counts())\n",
    "print(\"class distribution in y_test:\", pd.Series(y_test).value_counts())"
   ]
  },
  {
   "cell_type": "code",
   "execution_count": null,
   "metadata": {},
   "outputs": [],
   "source": [
    "# model setup\n",
    "model = Sequential()\n",
    "\n",
    "# applying the embedding layer; adjust input_dim and output_dim as necessary\n",
    "input_dim = X_train.max() + 1  # unique values in the largest label-encoded column\n",
    "output_dim = 1  # dimensionality for the embeddings\n",
    "\n",
    "model.add(Embedding(input_dim=input_dim, output_dim=output_dim))\n",
    "\n",
    "model.add(Flatten())\n",
    "model.add(Dense(1, activation='sigmoid'))  # output layer for binary classification\n",
    "\n",
    "\n",
    "model.compile(\n",
    "    optimizer=tf.keras.optimizers.Adam(learning_rate=0.1), \n",
    "    loss=tf.keras.losses.BinaryCrossentropy(),\n",
    "    metrics=[tf.keras.metrics.BinaryAccuracy(threshold=0.5, name='accuracy')]\n",
    ")\n",
    "   \n",
    "\n",
    "# display the model summary\n",
    "model.summary()\n",
    "\n",
    "# checkpoints\n",
    "early_stopping = EarlyStopping(monitor='loss', patience=5, restore_best_weights=True)\n",
    "model_checkpoint = ModelCheckpoint(filepath='../models/best_model.keras', monitor='loss', save_best_only=True)\n",
    "\n",
    "# running the model\n",
    "history = model.fit(\n",
    "    X_train, \n",
    "    y_train, \n",
    "    epochs=5,\n",
    "    batch_size=32,\n",
    "    callbacks=[early_stopping, model_checkpoint],\n",
    "    verbose=2)\n",
    "\n",
    "# save training history\n",
    "with open('../models/training_history.json', 'w') as file: # open creates a file\n",
    "    json.dump(history.history, file) # dump saves it as a json file\n",
    "     "
   ]
  },
  {
   "cell_type": "code",
   "execution_count": null,
   "metadata": {},
   "outputs": [],
   "source": [
    "# get predictions\n",
    "probabilities = model.predict(X_test)"
   ]
  },
  {
   "cell_type": "code",
   "execution_count": null,
   "metadata": {},
   "outputs": [],
   "source": [
    "# convert probabilities to binary predictions\n",
    "predictions = (probabilities > 0.5).astype(\"int32\").flatten()  # ensure predictions is a 1d array\n",
    "\n",
    "# convert predictions to a pandas series (optional, if needed for compatibility)\n",
    "predictions = pd.Series(predictions, name=\"predictions\")"
   ]
  },
  {
   "cell_type": "code",
   "execution_count": null,
   "metadata": {},
   "outputs": [],
   "source": [
    "print(\"accuracy:\", accuracy_score(y_test, predictions))\n",
    "print(\"classification report:\\n\", classification_report(y_test, predictions))"
   ]
  },
  {
   "cell_type": "code",
   "execution_count": null,
   "metadata": {},
   "outputs": [],
   "source": [
    "# confusion matrix\n",
    "cm = confusion_matrix(y_test, predictions)\n",
    "\n",
    "# plot confusion matrix\n",
    "plt.figure(figsize=(8, 6))\n",
    "sns.heatmap(cm, annot=True, fmt=\"d\", cmap=\"Blues\")\n",
    "plt.title(\"confusion matrix\")\n",
    "plt.xlabel(\"predicted class\")\n",
    "plt.ylabel(\"true class\")\n",
    "plt.show()"
   ]
  }
 ],
 "metadata": {
  "kernelspec": {
   "display_name": "computer_vision",
   "language": "python",
   "name": "python3"
  },
  "language_info": {
   "codemirror_mode": {
    "name": "ipython",
    "version": 3
   },
   "file_extension": ".py",
   "mimetype": "text/x-python",
   "name": "python",
   "nbconvert_exporter": "python",
   "pygments_lexer": "ipython3",
   "version": "3.10.16"
  }
 },
 "nbformat": 4,
 "nbformat_minor": 2
}
