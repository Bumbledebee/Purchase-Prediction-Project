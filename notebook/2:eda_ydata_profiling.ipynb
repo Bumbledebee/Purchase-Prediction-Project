{
 "cells": [
  {
   "cell_type": "code",
   "execution_count": 1,
   "metadata": {},
   "outputs": [
    {
     "name": "stderr",
     "output_type": "stream",
     "text": [
      "/opt/anaconda3/envs/profiling_env/lib/python3.10/site-packages/tqdm/auto.py:21: TqdmWarning: IProgress not found. Please update jupyter and ipywidgets. See https://ipywidgets.readthedocs.io/en/stable/user_install.html\n",
      "  from .autonotebook import tqdm as notebook_tqdm\n"
     ]
    },
    {
     "data": {
      "text/html": [
       "\n",
       "            <div>\n",
       "                <ins><a href=\"https://ydata.ai/register\">Upgrade to ydata-sdk</a></ins>\n",
       "                <p>\n",
       "                    Improve your data and profiling with ydata-sdk, featuring data quality scoring, redundancy detection, outlier identification, text validation, and synthetic data generation.\n",
       "                </p>\n",
       "            </div>\n",
       "            "
      ],
      "text/plain": [
       "<IPython.core.display.HTML object>"
      ]
     },
     "metadata": {},
     "output_type": "display_data"
    }
   ],
   "source": [
    "import pandas as pd\n",
    "\n",
    "from ydata_profiling.utils.cache import cache_file\n",
    "from ydata_profiling import ProfileReport"
   ]
  },
  {
   "cell_type": "code",
   "execution_count": 49,
   "metadata": {},
   "outputs": [],
   "source": [
    "df = pd.read_csv(\"../data/events_cleaned.csv\") #reading data\n",
    "target = df.pop('event_type') #extracting the target variable \n",
    "df['event_type'] = target #adding target variable to the end\n",
    "df = df.drop(columns=['user_session', 'last_view_before_cart', 'last_view_before_purchase', 'already_in_cart']) #dropping distracting columns\n",
    "df = df.sort_values(by=['event_time', 'user_id', 'product_id']) #sorting by event time\n",
    "df[['user_id', 'product_id', 'category_id']] = df[['user_id', 'product_id','category_id']].astype('object') #convert to object\n",
    "df = df.head(10000).reset_index(drop=True) #taking a sample of 1200 rows\n"
   ]
  },
  {
   "cell_type": "code",
   "execution_count": 50,
   "metadata": {},
   "outputs": [
    {
     "name": "stderr",
     "output_type": "stream",
     "text": [
      "100%|██████████| 8/8 [00:09<00:00,  1.16s/it]09<00:07,  1.42s/it, Describe variable: event_type]\n",
      "Summarize dataset:  67%|██████▋   | 10/15 [00:09<00:07,  1.42s/it, Calculate auto correlation]  /opt/anaconda3/envs/profiling_env/lib/python3.10/site-packages/ydata_profiling/model/correlations.py:87: UserWarning: There was an attempt to calculate the auto correlation, but this failed.\n",
      "To hide this warning, disable the calculation\n",
      "(using `df.profile_report(correlations={\"auto\": {\"calculate\": False}})`\n",
      "If this is problematic for your use case, please report this as an issue:\n",
      "https://github.com/ydataai/ydata-profiling/issues\n",
      "(include the error message: 'cannot reindex on an axis with duplicate labels')\n",
      "  warnings.warn(\n",
      "Summarize dataset: 100%|██████████| 33/33 [00:11<00:00,  2.76it/s, Completed]                       \n",
      "Generate report structure: 100%|██████████| 1/1 [00:03<00:00,  3.68s/it]\n",
      "Render HTML: 100%|██████████| 1/1 [00:00<00:00,  1.38it/s]\n",
      "Export report to file: 100%|██████████| 1/1 [00:00<00:00, 166.01it/s]\n"
     ]
    }
   ],
   "source": [
    "#Enable tsmode to True to automatically identify time-series variables\n",
    "#Provide the column name that provides the chronological order of your time-series\n",
    "profile = ProfileReport(df, tsmode=True, sortby=\"event_time\", title=\"Time-Series EDA\")\n",
    "\n",
    "profile.to_file(\"../data/report_timeseries2.html\")"
   ]
  },
  {
   "cell_type": "code",
   "execution_count": 51,
   "metadata": {},
   "outputs": [],
   "source": [
    "df = pd.read_csv(\"../data/events_ml.csv\") #reading data\n",
    "int_columns = df.select_dtypes(include='int64').columns #convert all integer columns to object\n",
    "df[int_columns] = df[int_columns].astype('object')\n",
    "df = df.head(10000).reset_index(drop=True) #taking a sample of 1200 rows"
   ]
  },
  {
   "cell_type": "code",
   "execution_count": 52,
   "metadata": {},
   "outputs": [
    {
     "name": "stderr",
     "output_type": "stream",
     "text": [
      "100%|██████████| 11/11 [00:00<00:00, 20.51it/s]0<00:00, 11.93it/s, Describe variable: last_view_before_purchase]\n",
      "Summarize dataset: 100%|██████████| 24/24 [00:02<00:00,  9.05it/s, Completed]                                   \n",
      "Generate report structure: 100%|██████████| 1/1 [00:03<00:00,  3.87s/it]\n",
      "Render HTML: 100%|██████████| 1/1 [00:00<00:00,  2.02it/s]\n",
      "Export report to file: 100%|██████████| 1/1 [00:00<00:00, 317.77it/s]\n"
     ]
    }
   ],
   "source": [
    "profile = ProfileReport(df, title=\"Profiling Report\")\n",
    "profile.to_file(\"../data/report_profile1.html\")"
   ]
  }
 ],
 "metadata": {
  "kernelspec": {
   "display_name": "profiling_env",
   "language": "python",
   "name": "python3"
  },
  "language_info": {
   "codemirror_mode": {
    "name": "ipython",
    "version": 3
   },
   "file_extension": ".py",
   "mimetype": "text/x-python",
   "name": "python",
   "nbconvert_exporter": "python",
   "pygments_lexer": "ipython3",
   "version": "3.10.16"
  }
 },
 "nbformat": 4,
 "nbformat_minor": 2
}
